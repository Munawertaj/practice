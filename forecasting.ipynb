{
  "cells": [
    {
      "cell_type": "markdown",
      "metadata": {},
      "source": [
        "### Reading Dataset"
      ]
    },
    {
      "cell_type": "code",
      "execution_count": null,
      "metadata": {},
      "outputs": [],
      "source": [
        "import pandas as pd \n",
        "import warnings\n",
        "warnings.filterwarnings(\"ignore\")\n",
        "\n",
        "data = pd.read_csv(\"shampoo.csv\")\n",
        "data = data[\"Sales\"]"
      ]
    },
    {
      "cell_type": "markdown",
      "metadata": {},
      "source": [
        "### Dividing the Dataset into Training & Test Set"
      ]
    },
    {
      "cell_type": "code",
      "execution_count": null,
      "metadata": {},
      "outputs": [],
      "source": [
        "size = int(len(data) * 0.80)\n",
        "train, test = data[:size], data[size:]"
      ]
    },
    {
      "cell_type": "markdown",
      "metadata": {},
      "source": [
        "### Plotting ACF & PACF"
      ]
    },
    {
      "cell_type": "code",
      "execution_count": null,
      "metadata": {},
      "outputs": [],
      "source": [
        "import statsmodels.api as sm\n",
        "sm.graphics.tsa.plot_acf(data, lags = 10)\n",
        "sm.graphics.tsa.plot_pacf(data, lags = 10)"
      ]
    },
    {
      "cell_type": "markdown",
      "metadata": {},
      "source": [
        "### Finding Optimal p, d, q"
      ]
    },
    {
      "cell_type": "code",
      "execution_count": null,
      "metadata": {},
      "outputs": [],
      "source": [
        "from statsmodels.tsa.arima.model import ARIMA\n",
        "import matplotlib.pyplot as plt\n",
        "from sklearn.metrics import mean_squared_error\n",
        "import numpy as np\n",
        "\n",
        "import itertools\n",
        "p = d = q = range(0, 5)\n",
        "pdq_combinations = list(itertools.product(p, d, q))\n",
        "\n",
        "min_rmse = 10 ** 9\n",
        "optimal_pdq = (0, 0, 0)\n",
        "\n",
        "for pdq in pdq_combinations:\n",
        "    try: \n",
        "        model = ARIMA(train, order = pdq).fit()\n",
        "        predict = model.forecast(len(test))\n",
        "        error = np.sqrt(mean_squared_error(test, predict))\n",
        "        if error < min_rmse:\n",
        "            min_rmse = error\n",
        "            optimal_pdq = pdq\n",
        "    except:\n",
        "        continue\n",
        "\n",
        "print(optimal_pdq, min_rmse)"
      ]
    },
    {
      "cell_type": "markdown",
      "metadata": {},
      "source": [
        "### Training the model with Train dataset"
      ]
    },
    {
      "cell_type": "code",
      "execution_count": null,
      "metadata": {},
      "outputs": [],
      "source": [
        "model = ARIMA(train, order = optimal_pdq).fit()"
      ]
    },
    {
      "cell_type": "code",
      "execution_count": null,
      "metadata": {},
      "outputs": [],
      "source": [
        "print(model.summary())"
      ]
    },
    {
      "cell_type": "markdown",
      "metadata": {},
      "source": [
        "### Actual vs Predict"
      ]
    },
    {
      "cell_type": "code",
      "execution_count": null,
      "metadata": {},
      "outputs": [],
      "source": [
        "predict = model.forecast(len(test))\n",
        "\n",
        "plt.plot(train, label = \"Training\")\n",
        "plt.plot(test, label = \"Actual\")\n",
        "plt.plot(predict, label = \"Forecast\")\n",
        "plt.title(\"Forecast vs Actual\")\n",
        "plt.legend()\n",
        "plt.show()"
      ]
    }
  ],
  "metadata": {
    "colab": {
      "provenance": []
    },
    "kernelspec": {
      "display_name": "Python 3",
      "name": "python3"
    },
    "language_info": {
      "codemirror_mode": {
        "name": "ipython",
        "version": 3
      },
      "file_extension": ".py",
      "mimetype": "text/x-python",
      "name": "python",
      "nbconvert_exporter": "python",
      "pygments_lexer": "ipython3",
      "version": "3.12.1"
    }
  },
  "nbformat": 4,
  "nbformat_minor": 0
}
